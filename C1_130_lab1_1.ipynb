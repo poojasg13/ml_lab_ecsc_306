{
 "cells": [
  {
   "cell_type": "code",
   "execution_count": 2,
   "metadata": {},
   "outputs": [
    {
     "name": "stdout",
     "output_type": "stream",
     "text": [
      "36\n"
     ]
    }
   ],
   "source": [
    "import tensorflow as tf\n",
    "with tf.name_scope(\"myepression1\"):\n",
    "    with tf.name_scope(\"Scope_square\"):\n",
    "        a=tf.square(2,name=\"mul_a\")\n",
    "        b=tf.square(4,name=\"mul_b\")\n",
    "        s=tf.add(a,b,name=\"add_square\")\n",
    "    with tf.name_scope(\"Scope_mul\"):\n",
    "        e=tf.multiply(2,4,name=\"Mul_numbers\")\n",
    "        f=tf.multiply(e,2,name=\"Mul_numbers\")\n",
    "l=tf.add(s,f,name=\"Final_res\")\n",
    "\n",
    "with tf.Session() as ssn:\n",
    "    writer = tf.summary.FileWriter(\"/tmp/tboard/out_1\", ssn.graph)\n",
    "    print(ssn.run(l))\n",
    "    writer.close()\n"
   ]
  },
  {
   "cell_type": "code",
   "execution_count": null,
   "metadata": {
    "collapsed": true
   },
   "outputs": [],
   "source": []
  }
 ],
 "metadata": {
  "kernelspec": {
   "display_name": "Python 3",
   "language": "python",
   "name": "python3"
  },
  "language_info": {
   "codemirror_mode": {
    "name": "ipython",
    "version": 3
   },
   "file_extension": ".py",
   "mimetype": "text/x-python",
   "name": "python",
   "nbconvert_exporter": "python",
   "pygments_lexer": "ipython3",
   "version": "3.6.1"
  }
 },
 "nbformat": 4,
 "nbformat_minor": 2
}

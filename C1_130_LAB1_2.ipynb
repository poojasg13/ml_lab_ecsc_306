{
 "cells": [
  {
   "cell_type": "code",
   "execution_count": 1,
   "metadata": {},
   "outputs": [
    {
     "ename": "AttributeError",
     "evalue": "module 'tensorflow' has no attribute 'substract'",
     "output_type": "error",
     "traceback": [
      "\u001b[0;31m---------------------------------------------------------------------------\u001b[0m",
      "\u001b[0;31mAttributeError\u001b[0m                            Traceback (most recent call last)",
      "\u001b[0;32m<ipython-input-1-a76a11a57b8a>\u001b[0m in \u001b[0;36m<module>\u001b[0;34m()\u001b[0m\n\u001b[1;32m     22\u001b[0m         \u001b[0;32mwith\u001b[0m \u001b[0mtf\u001b[0m\u001b[0;34m.\u001b[0m\u001b[0mname_scope\u001b[0m\u001b[0;34m(\u001b[0m\u001b[0;34m\"OPR_mul\"\u001b[0m\u001b[0;34m)\u001b[0m\u001b[0;34m:\u001b[0m\u001b[0;34m\u001b[0m\u001b[0m\n\u001b[1;32m     23\u001b[0m             \u001b[0ms3\u001b[0m\u001b[0;34m=\u001b[0m\u001b[0mtf\u001b[0m\u001b[0;34m.\u001b[0m\u001b[0madd\u001b[0m\u001b[0;34m(\u001b[0m\u001b[0mgf\u001b[0m\u001b[0;34m,\u001b[0m\u001b[0mhf\u001b[0m\u001b[0;34m,\u001b[0m\u001b[0;34m)\u001b[0m\u001b[0;34m\u001b[0m\u001b[0m\n\u001b[0;32m---> 24\u001b[0;31m             \u001b[0ms4\u001b[0m\u001b[0;34m=\u001b[0m\u001b[0mtf\u001b[0m\u001b[0;34m.\u001b[0m\u001b[0msubstract\u001b[0m\u001b[0;34m(\u001b[0m\u001b[0ms3\u001b[0m\u001b[0;34m,\u001b[0m\u001b[0mjf\u001b[0m\u001b[0;34m,\u001b[0m\u001b[0mname\u001b[0m\u001b[0;34m=\u001b[0m\u001b[0;34m\"ADD2\"\u001b[0m\u001b[0;34m)\u001b[0m\u001b[0;34m\u001b[0m\u001b[0m\n\u001b[0m\u001b[1;32m     25\u001b[0m \u001b[0ml\u001b[0m\u001b[0;34m=\u001b[0m\u001b[0mtf\u001b[0m\u001b[0;34m.\u001b[0m\u001b[0msubstract\u001b[0m\u001b[0;34m(\u001b[0m\u001b[0ms2\u001b[0m\u001b[0;34m,\u001b[0m\u001b[0ms4\u001b[0m\u001b[0;34m,\u001b[0m\u001b[0mname\u001b[0m\u001b[0;34m=\u001b[0m\u001b[0;34m\"Final_res\"\u001b[0m\u001b[0;34m)\u001b[0m\u001b[0;34m\u001b[0m\u001b[0m\n\u001b[1;32m     26\u001b[0m \u001b[0;34m\u001b[0m\u001b[0m\n",
      "\u001b[0;31mAttributeError\u001b[0m: module 'tensorflow' has no attribute 'substract'"
     ]
    }
   ],
   "source": [
    "import tensorflow as tf\n",
    "\n",
    "a=tf.constant(3)\n",
    "b=tf.constant(4)\n",
    "c=tf.constant(5)\n",
    "with tf.name_scope(\"myexpression2\"):\n",
    "    with tf.name_scope(\"Scope_square\"):\n",
    "        d=tf.square(a,name=\"mul_a\")\n",
    "        e=tf.square(b,name=\"mul_b\")\n",
    "        f=tf.square(c,name=\"mul_c\")\n",
    "        with tf.name_scope(\"Add_squares\"):\n",
    "            s1=tf.add(d,e,)\n",
    "            s2=tf.add(s1,f,name=\"ADD1\")\n",
    "    with tf.name_scope(\"Scope_mul\"):\n",
    "        g=tf.multiply(a,b,name=\"Mul_numbers1\")\n",
    "        h=tf.multiply(b,c,name=\"Mul_numbers2\")\n",
    "        j=tf.multiply(a,c,name=\"Mul_numbers3\")\n",
    "        with tf.name_scope(\"mul_2\"):\n",
    "            gf=tf.multiply(g,2,name=\"Mul_numG\")\n",
    "            hf=tf.multiply(h,2,name=\"Mul_numH\")\n",
    "            jf=tf.multiply(j,2,name=\"Mul_numJ\")\n",
    "        with tf.name_scope(\"OPR_mul\"):\n",
    "            s3=tf.add(gf,hf,)\n",
    "            s4=tf.subtract(s3,jf,name=\"SUBTRACT\")   \n",
    "l=tf.subtract(s2,s4,name=\"Final_res\")\n",
    "\n",
    "with tf.Session() as ssn1:\n",
    "    writer = tf.summary.FileWriter(\"/tmp/tboard/out_1\", ssn1.graph)\n",
    "    print(ssn1.run(l))\n",
    "    writer.close()"
   ]
  },
  {
   "cell_type": "code",
   "execution_count": null,
   "metadata": {
    "collapsed": true
   },
   "outputs": [],
   "source": []
  }
 ],
 "metadata": {
  "kernelspec": {
   "display_name": "Python 3",
   "language": "python",
   "name": "python3"
  },
  "language_info": {
   "codemirror_mode": {
    "name": "ipython",
    "version": 3
   },
   "file_extension": ".py",
   "mimetype": "text/x-python",
   "name": "python",
   "nbconvert_exporter": "python",
   "pygments_lexer": "ipython3",
   "version": "3.6.1"
  }
 },
 "nbformat": 4,
 "nbformat_minor": 2
}

{
 "cells": [
  {
   "cell_type": "code",
   "execution_count": 4,
   "metadata": {},
   "outputs": [
    {
     "name": "stdout",
     "output_type": "stream",
     "text": [
      "1.0\n",
      "epoch value: 500\n",
      "theta1: 0.953353\n",
      "theta0: 0.168409\n",
      "epoch value: 1000\n",
      "theta1: 0.969437\n",
      "theta0: 0.110343\n",
      "epoch value: 1500\n",
      "theta1: 0.979975\n",
      "theta0: 0.0722978\n",
      "epoch value: 2000\n",
      "theta1: 0.986879\n",
      "theta0: 0.0473703\n",
      "epoch value: 2500\n",
      "theta1: 0.991403\n",
      "theta0: 0.0310376\n",
      "[  2.58115027e-03   1.10808969e-03   4.75698151e-04   2.04218231e-04\n",
      "   8.76719278e-05]\n"
     ]
    },
    {
     "data": {
      "image/png": "[encoded data removed]",
      "text/plain": [
       "<matplotlib.figure.Figure at 0x7f32dd4836d8>"
      ]
     },
     "metadata": {},
     "output_type": "display_data"
    }
   ],
   "source": [
    "import tensorflow as tf\n",
    "import matplotlib.pyplot as plt\n",
    "\n",
    "x=tf.constant([1.0,2.0,3.0,4.0,5.0],name='f')\n",
    "\n",
    "y=tf.constant([1.0,2.0,3.0,4.0,5.0],name='s')\n",
    "epoch=tf.constant(2500)\n",
    "z=tf.constant([500.00,1000.00,1500.00,2000.0,2500.0])\n",
    "lr=0.005\n",
    "i=0\n",
    "t1=0.0\n",
    "t0=0.0\n",
    "#PART 1\n",
    "s1=tf.reduce_sum(tf.multiply(tf.subtract(tf.add(tf.multiply(x,t1),t0),y),x))\n",
    "s0=tf.reduce_sum(tf.subtract(tf.add(tf.multiply(x,t1),t0),y))\n",
    "tn1=tf.subtract(t1,tf.multiply(lr,tf.divide(s1,tf.cast(tf.size(x),tf.float32))))\n",
    "tn0=tf.subtract(t0,tf.multiply(lr,tf.divide(s0,tf.cast(tf.size(x),tf.float32))))\n",
    "threshold=0.001\n",
    "T=epoch/500\n",
    "model = tf.global_variables_initializer()\n",
    "\n",
    "with tf.Session() as sess:\n",
    "    sess.run(model)\n",
    "    output= tf.TensorArray(size=tf.cast(T,tf.int32), dtype=tf.float32)\n",
    "    #output2 = tf.TensorArray(size=tf.cast(T,tf.int32), dtype=tf.float32)\n",
    "    for j in range(sess.run(epoch)):\n",
    "        t1=tn1\n",
    "        t0=tn0\n",
    "        s1=tf.reduce_sum(tf.multiply(tf.subtract(tf.add(tf.multiply(x,t1),t0),y),x))\n",
    "        s0=tf.reduce_sum(tf.subtract(tf.add(tf.multiply(x,t1),t0),y))\n",
    "        tn1=tf.subtract(t1,tf.multiply(lr,tf.divide(s1,tf.cast(tf.size(x),tf.float32))))\n",
    "        tn0=tf.subtract(t0,tf.multiply(lr,tf.divide(s0,tf.cast(tf.size(x),tf.float32))))\n",
    "        if (j+1) % 500 == 0:\n",
    "            c=0\n",
    "            print(\"epoch value:\",(j+1))           \n",
    "            print(\"theta1:\",sess.run(tn1))\n",
    "            print(\"theta0:\",sess.run(tn0))\n",
    "            c=tf.divide(tf.reduce_sum(tf.square(tf.subtract(tf.add(tf.multiply(x,tn1),tn0),y))),tf.multiply(2.0,tf.cast(tf.size(x),tf.float32)))\n",
    "            output= output.write(i, c)\n",
    "            #output2 = output2.write(i, t0)\n",
    "            i=i+1\n",
    "    output_final = output.stack()\n",
    "    \n",
    "    #part 2\n",
    "    print(sess.run(output_final))\n",
    "    plt.plot(sess.run(z),sess.run(output_final),label='epoch-cost')\n",
    "    plt.legend()\n",
    "    plt.show()\n",
    "    \n",
    "        "
   ]
  },
  {
   "cell_type": "code",
   "execution_count": 1,
   "metadata": {},
   "outputs": [
    {
     "name": "stdout",
     "output_type": "stream",
     "text": [
      "epoch value: 20\n",
      "theta0: -0.548226\n",
      "theta1: 1.04707\n",
      "theta1: -1.45777\n",
      "error: 0.126118\n",
      "epoch value: 40\n",
      "theta0: -0.685125\n",
      "theta1: 1.24954\n",
      "theta1: -1.79277\n",
      "error: 0.0588686\n",
      "epoch value: 60\n",
      "theta0: -0.763168\n",
      "theta1: 1.36984\n",
      "theta1: -1.98292\n",
      "error: 0.0381824\n",
      "epoch value: 80\n",
      "theta0: -0.817738\n",
      "theta1: 1.45565\n",
      "theta1: -2.11612\n",
      "error: 0.0282092\n",
      "epoch value: 100\n",
      "theta0: -0.859645\n",
      "theta1: 1.52238\n",
      "theta1: -2.2187\n",
      "error: 0.0223507\n",
      "[ 0.12611778  0.05886858  0.03818244  0.02820917  0.0223507 ]\n"
     ]
    },
    {
     "data": {
      "image/png": "[encoded data removed]",
      "text/plain": [
       "<matplotlib.figure.Figure at 0x7f5301481e80>"
      ]
     },
     "metadata": {},
     "output_type": "display_data"
    }
   ],
   "source": [
    "\n",
    "\n",
    "import tensorflow as tf\n",
    "import matplotlib.pyplot as plt\n",
    "\n",
    "#LEARNING RATE=0.3\n",
    "\n",
    "x1=tf.constant([2.7810836,1.465489372,3.396561688,1.38807019,3.06407232,7.627531214,5.332441248,6.922596716,8.675418651,7.673756466],name='f')\n",
    "x2=tf.constant([2.550537003,2.362125076,4.400293529,1.850220317,3.005305973,2.759262235,2.088626775,1.77106367,-0.242068655,3.508563011],name='s')\n",
    "y=tf.constant([0.0,0.0,0.0,0.0,0.0,1.0,1.0,1.0,1.0,1.0],name='o')\n",
    "epoch=tf.constant(100)\n",
    "z=tf.constant([20.0,40.0,60.0,80.0,100.0])\n",
    "lr=0.3\n",
    "k=0\n",
    "l=0\n",
    "t0=0.0\n",
    "t1=0.0\n",
    "t2=0.0\n",
    "#PART 1\n",
    "\n",
    "T=epoch/20\n",
    "model = tf.global_variables_initializer()\n",
    "\n",
    "with tf.Session() as sess:\n",
    "    sess.run(model)\n",
    "    output= tf.TensorArray(size=tf.cast(T,tf.int32), dtype=tf.float32)\n",
    "    theta=tf.TensorArray(size=3,dtype=tf.float32)\n",
    "    #output2 = tf.TensorArray(size=tf.cast(T,tf.int32), dtype=tf.float32)\n",
    "    for j in range(sess.run(epoch)):\n",
    "        sum_err=0\n",
    "        for i in range(sess.run(tf.size(x1))):\n",
    "            yhat=1.0/(1.0+tf.exp(-t0-(t1*x1[i])-(t2*x2[i])))\n",
    "            error=y[i]-yhat\n",
    "            sum_err=sum_err+tf.square(error)\n",
    "            t0 = t0 + lr* error * yhat * (1.0 - yhat)\n",
    "            theta= theta.write(l, t0)\n",
    "            t1 = t1 + lr* error * yhat * (1.0 - yhat)*x1[i]\n",
    "            theta= theta.write(l+1, t1)\n",
    "            t2 = t2 + lr* error * yhat * (1.0 - yhat)*x2[i]\n",
    "            theta= theta.write(l+2, t2)\n",
    "        if (j+1) % 20 == 0:\n",
    "            print(\"epoch value:\",(j+1))\n",
    "            print(\"theta0:\",sess.run(t0))\n",
    "            print(\"theta1:\",sess.run(t1))\n",
    "            print(\"theta1:\",sess.run(t2))\n",
    "            print(\"error:\",sess.run(sum_err))\n",
    "            output= output.write(k, sum_err)\n",
    "            #output2 = output2.write(i, t0)\n",
    "            k=k+1\n",
    "    output_final = output.stack()\n",
    "    \n",
    "    #part 2\n",
    "    print(sess.run(output_final))\n",
    "    plt.plot(sess.run(z),sess.run(output_final),label='epoch-cost')\n",
    "    plt.legend()\n",
    "    plt.show()\n",
    "        "
   ]
  },
  {
   "cell_type": "code",
   "execution_count": null,
   "metadata": {
    "collapsed": true
   },
   "outputs": [],
   "source": []
  }
 ],
 "metadata": {
  "kernelspec": {
   "display_name": "Python 3",
   "language": "python",
   "name": "python3"
  },
  "language_info": {
   "codemirror_mode": {
    "name": "ipython",
    "version": 3
   },
   "file_extension": ".py",
   "mimetype": "text/x-python",
   "name": "python",
   "nbconvert_exporter": "python",
   "pygments_lexer": "ipython3",
   "version": "3.6.1"
  }
 },
 "nbformat": 4,
 "nbformat_minor": 2
}

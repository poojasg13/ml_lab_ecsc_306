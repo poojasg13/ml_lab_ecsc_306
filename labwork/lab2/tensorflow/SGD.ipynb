{
 "cells": [
  {
   "cell_type": "code",
   "execution_count": null,
   "metadata": {
    "collapsed": true
   },
   "outputs": [],
   "source": [
    "import tensorflow as tf\n",
    "import matplotlib.pyplot as plt\n",
    "\n",
    "x=tf.constant([1.0,2.0,3.0,4.0,5.0],name='f')\n",
    "y=tf.constant([1.0,2.0,3.0,4.0,5.0],name='s')\n",
    "epoch=tf.constant(2500)\n",
    "z=tf.constant([500.00,1000.00,1500.00,2000.0,2500.0])\n",
    "lr=0.005\n",
    "i=0\n",
    "t1=0.0\n",
    "t0=0.0\n",
    "#PART 1\n",
    "s1=tf.reduce_sum(tf.multiply(tf.subtract(tf.add(tf.multiply(x,t1),t0),y),x))\n",
    "s0=tf.reduce_sum(tf.subtract(tf.add(tf.multiply(x,t1),t0),y))\n",
    "tn1=tf.subtract(t1,tf.multiply(lr,tf.divide(s1,tf.cast(tf.size(x),tf.float32))))\n",
    "tn0=tf.subtract(t0,tf.multiply(lr,tf.divide(s0,tf.cast(tf.size(x),tf.float32))))\n",
    "threshold=0.001\n",
    "T=epoch/500\n",
    "model = tf.global_variables_initializer()\n",
    "\n",
    "with tf.Session() as sess:\n",
    "    sess.run(model)\n",
    "    output= tf.TensorArray(size=tf.cast(T,tf.int32), dtype=tf.float32)\n",
    "    #output2 = tf.TensorArray(size=tf.cast(T,tf.int32), dtype=tf.float32)\n",
    "    for j in range(sess.run(epoch)):\n",
    "        t1=tn1\n",
    "        t0=tn0\n",
    "        s1=tf.reduce_sum(tf.multiply(tf.subtract(tf.add(tf.multiply(x,t1),t0),y),x))\n",
    "        s0=tf.reduce_sum(tf.subtract(tf.add(tf.multiply(x,t1),t0),y))\n",
    "        tn1=tf.subtract(t1,tf.multiply(lr,tf.divide(s1,tf.cast(tf.size(x),tf.float32))))\n",
    "        tn0=tf.subtract(t0,tf.multiply(lr,tf.divide(s0,tf.cast(tf.size(x),tf.float32))))\n",
    "        if (j+1) % 500 == 0:\n",
    "            c=0\n",
    "            print(\"epoch value:\",(j+1))           \n",
    "            print(\"theta1:\",sess.run(tn1))\n",
    "            print(\"theta0:\",sess.run(tn0))\n",
    "            c=tf.divide(tf.reduce_sum(tf.square(tf.subtract(tf.add(tf.multiply(x,tn1),tn0),y))),tf.multiply(2.0,tf.cast(tf.size(x),tf.float32)))\n",
    "            output= output.write(i, c)\n",
    "            #output2 = output2.write(i, t0)\n",
    "            i=i+1\n",
    "    output_final = output.stack()\n",
    "    \n",
    "    #part 2\n",
    "    print(sess.run(output_final))\n",
    "    plt.plot(sess.run(z),sess.run(output_final),label='epoch-cost')\n",
    "    plt.legend()\n",
    "    plt.show()\n",
    "        "
   ]
  }
 ],
 "metadata": {
  "kernelspec": {
   "display_name": "Python 3",
   "language": "python",
   "name": "python3"
  },
  "language_info": {
   "codemirror_mode": {
    "name": "ipython",
    "version": 3
   },
   "file_extension": ".py",
   "mimetype": "text/x-python",
   "name": "python",
   "nbconvert_exporter": "python",
   "pygments_lexer": "ipython3",
   "version": "3.6.1"
  }
 },
 "nbformat": 4,
 "nbformat_minor": 2
}

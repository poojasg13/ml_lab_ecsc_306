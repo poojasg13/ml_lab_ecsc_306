{
 "cells": [
  {
   "cell_type": "code",
   "execution_count": 15,
   "metadata": {},
   "outputs": [
    {
     "name": "stdout",
     "output_type": "stream",
     "text": [
      "b'y=mx+c'\n",
      "b'm:' 0.982083\n",
      "b'c:' 2.80834\n",
      "b'Actual values of Y' [ 14.39000034  24.87000084  36.34000015  45.99000168]\n",
      "b'predicted values of Y' [ 14.8388567   24.73824883  35.33492279  46.67797852]\n",
      "0.652366\n"
     ]
    },
    {
     "data": {
      "image/png": "[encoded data removed]",
      "text/plain": [
       "<matplotlib.figure.Figure at 0x7f1b1fcdf160>"
      ]
     },
     "metadata": {},
     "output_type": "display_data"
    }
   ],
   "source": [
    "import tensorflow as tf\n",
    "import matplotlib.pyplot as plt\n",
    "\n",
    "x=tf.constant([12.25,22.33,33.12,44.67],name='f')\n",
    "y=tf.constant([14.39,24.87,36.34,45.99],name='s')\n",
    "\n",
    "e=tf.constant(\"y=mx+c\")\n",
    "ms=tf.constant(\"m:\")\n",
    "mc=tf.constant(\"c:\")\n",
    "ac=tf.constant(\"Actual values of Y\")\n",
    "pc=tf.constant(\"predicted values of Y\")\n",
    "\n",
    "# MEAN OF X, Y\n",
    "mx = tf.reduce_mean(x)\n",
    "my = tf.reduce_mean(y)\n",
    "\n",
    "    \n",
    "# X-MEAN , Y-MEAN\n",
    "vx=tf.Variable(x-mx, name='varx')\n",
    "vy=tf.Variable(y-my, name='vary')\n",
    "\n",
    "   \n",
    "#VS=X-MEAN SQUARE, SUM OF VS\n",
    "vs=tf.square(vx)\n",
    "sm=tf.reduce_sum(vs)\n",
    "\n",
    "    \n",
    "#COVARIENCE  OF X,Y\n",
    "cV=tf.multiply(vx,vy)\n",
    "cm=tf.reduce_sum(cV)\n",
    "\n",
    "#calculation of m and c\n",
    "m=tf.divide(cm,sm)\n",
    "c=my-(mx*m)\n",
    "\n",
    "#Predicted values of Y\n",
    "p=tf.multiply(x,m)\n",
    "pry=tf.add(p,c)     \n",
    "\n",
    "\n",
    "#calculating root-mean-square-error\n",
    "rms=tf.sqrt(tf.reduce_mean(tf.squared_difference(y,pry)))\n",
    "    \n",
    "init = tf.global_variables_initializer()\n",
    "sess = tf.Session()\n",
    "sess.run(init)\n",
    " \n",
    "print(sess.run(e))\n",
    "print(sess.run(ms),sess.run(m))\n",
    "print(sess.run(mc),sess.run(c))\n",
    "\n",
    "print(sess.run(ac),sess.run(y))\n",
    "print(sess.run(pc),sess.run(pry))\n",
    "print(sess.run(rms))\n",
    "\n",
    "plt.plot(sess.run(y),sess.run(pry),label='actual-predicted')\n",
    "plt.legend()\n",
    "plt.show()\n",
    "\n",
    "    "
   ]
  },
  {
   "cell_type": "code",
   "execution_count": 6,
   "metadata": {},
   "outputs": [
    {
     "name": "stdout",
     "output_type": "stream",
     "text": [
      "<tf.Variable 'Variable_3:0' shape=(2, 2) dtype=int32_ref>\n",
      "WARNING:tensorflow:From /home/pooja/anaconda3/lib/python3.6/site-packages/tensorflow/python/util/tf_should_use.py:170: initialize_all_variables (from tensorflow.python.ops.variables) is deprecated and will be removed after 2017-03-02.\n",
      "Instructions for updating:\n",
      "Use `tf.global_variables_initializer` instead.\n",
      "[[68 85]\n",
      " [17 18]]\n"
     ]
    }
   ],
   "source": [
    "import tensorflow as tf\n",
    "import numpy as np\n",
    "\n",
    "def body(x):\n",
    "    a = tf.random_uniform(shape=[2, 2], dtype=tf.int32, maxval=100)\n",
    "    b = tf.constant(np.array([[1, 2], [3, 4]]), dtype=tf.int32)\n",
    "    c = a + b\n",
    "    return tf.nn.relu(x + c)\n",
    "\n",
    "def condition(x):\n",
    "    return tf.reduce_sum(x) < 100\n",
    "\n",
    "x = tf.Variable(tf.constant(0, shape=[2, 2]))\n",
    "print(x)\n",
    "with tf.Session():\n",
    "    tf.initialize_all_variables().run()\n",
    "    result = tf.while_loop(condition, body, [x])\n",
    "    print(result.eval())\n",
    "    \n",
    "\n",
    "\n"
   ]
  },
  {
   "cell_type": "code",
   "execution_count": null,
   "metadata": {
    "collapsed": true
   },
   "outputs": [],
   "source": []
  }
 ],
 "metadata": {
  "kernelspec": {
   "display_name": "Python 3",
   "language": "python",
   "name": "python3"
  },
  "language_info": {
   "codemirror_mode": {
    "name": "ipython",
    "version": 3
   },
   "file_extension": ".py",
   "mimetype": "text/x-python",
   "name": "python",
   "nbconvert_exporter": "python",
   "pygments_lexer": "ipython3",
   "version": "3.6.1"
  }
 },
 "nbformat": 4,
 "nbformat_minor": 2
}

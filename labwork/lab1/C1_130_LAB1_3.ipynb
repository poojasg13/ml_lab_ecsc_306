{
 "cells": [
  {
   "cell_type": "code",
   "execution_count": 37,
   "metadata": {
    "scrolled": true
   },
   "outputs": [
    {
     "name": "stdout",
     "output_type": "stream",
     "text": [
      "b'y=mx+c'\n",
      "3.0\n",
      "b'm:' 1.0\n",
      "b'c:' 0.0\n",
      "b'Actual values of Y' [ 12.25        22.32999992  33.11999893  44.66999817]\n",
      "b'predicted values of Y' [ 12.25        22.32999992  33.11999893  44.66999817]\n",
      "0.0\n"
     ]
    },
    {
     "data": {
      "image/png": "[encoded data removed]",
      "text/plain": [
       "<matplotlib.figure.Figure at 0x7f7288ac3ba8>"
      ]
     },
     "metadata": {},
     "output_type": "display_data"
    }
   ],
   "source": [
    "import tensorflow as tf\n",
    "import matplotlib.pyplot as plt\n",
    "\n",
    "x=tf.constant([12.25,22.33,33.12,44.67],name='f')\n",
    "y=tf.constant([12.25,22.33,33.12,44.67],name='s')\n",
    "z=tf.constant(1.0)\n",
    "e=tf.constant(\"y=mx+c\")\n",
    "ms=tf.constant(\"m:\")\n",
    "mc=tf.constant(\"c:\")\n",
    "ac=tf.constant(\"Actual values of Y\")\n",
    "pc=tf.constant(\"predicted values of Y\")\n",
    "\n",
    "# MEAN OF X, Y\n",
    "mx = tf.reduce_mean(x)\n",
    "my = tf.reduce_mean(y)\n",
    "\n",
    "    \n",
    "# X-MEAN , Y-MEAN\n",
    "vx=tf.Variable(x-mx, name='varx')\n",
    "vy=tf.Variable(y-my, name='vary')\n",
    "l=tf.size(x)\n",
    "a=tf.subtract(l,1)\n",
    "a=tf.cast(a,tf.float32)\n",
    "#VS=X-MEAN SQUARE, SUM OF VS\n",
    "vs=tf.square(vx)\n",
    "sn=tf.reduce_sum(vs)\n",
    "sm=tf.div(sn,a)\n",
    "\n",
    "    \n",
    "#COVARIENCE  OF X,Y\n",
    "cV=tf.multiply(vx,vy)\n",
    "cm=tf.reduce_sum(cV)\n",
    "cv=tf.div(cm,a)\n",
    "\n",
    "\n",
    "#calculation of m and c\n",
    "m=tf.divide(cv,sm)\n",
    "c=my-(mx*m)\n",
    "\n",
    "#Predicted values of Y\n",
    "p=tf.multiply(x,m)\n",
    "pry=tf.add(p,c)     \n",
    "\n",
    "\n",
    "#calculating root-mean-square-error\n",
    "rms=tf.sqrt(tf.reduce_mean(tf.squared_difference(y,pry)))\n",
    "    \n",
    "init = tf.global_variables_initializer()\n",
    "sess = tf.Session()\n",
    "sess.run(init)\n",
    " \n",
    "print(sess.run(e))\n",
    "print(sess.run(a))\n",
    "print(sess.run(ms),sess.run(m))\n",
    "print(sess.run(mc),sess.run(c))\n",
    "\n",
    "print(sess.run(ac),sess.run(y))\n",
    "print(sess.run(pc),sess.run(pry))\n",
    "print(sess.run(rms))\n",
    "\n",
    "plt.plot(sess.run(y),sess.run(pry),label='actual-predicted')\n",
    "plt.legend()\n",
    "plt.show()\n",
    "\n",
    "    "
   ]
  },
  {
   "cell_type": "code",
   "execution_count": null,
   "metadata": {},
   "outputs": [],
   "source": []
  },
  {
   "cell_type": "code",
   "execution_count": null,
   "metadata": {
    "collapsed": true
   },
   "outputs": [],
   "source": []
  }
 ],
 "metadata": {
  "kernelspec": {
   "display_name": "Python 3",
   "language": "python",
   "name": "python3"
  },
  "language_info": {
   "codemirror_mode": {
    "name": "ipython",
    "version": 3
   },
   "file_extension": ".py",
   "mimetype": "text/x-python",
   "name": "python",
   "nbconvert_exporter": "python",
   "pygments_lexer": "ipython3",
   "version": "3.6.1"
  }
 },
 "nbformat": 4,
 "nbformat_minor": 2
}
